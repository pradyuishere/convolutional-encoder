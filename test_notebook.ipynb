{
 "cells": [
  {
   "cell_type": "code",
   "execution_count": 77,
   "metadata": {},
   "outputs": [],
   "source": [
    "import cv2\n",
    "import numpy as np\n",
    "import matplotlib.pyplot as plt\n",
    "import matplotlib.image as mpimg"
   ]
  },
  {
   "cell_type": "code",
   "execution_count": 78,
   "metadata": {},
   "outputs": [],
   "source": [
    "\n",
    "def padding (img, dimx, dimy):\n",
    "    dimx_zeros = dimx - img.shape[1]\n",
    "    dimy_zeros = dimy - img.shape[0]\n",
    "    dimx_left = int(dimx_zeros/2)\n",
    "    dimx_right = dimx_zeros-dimx_left\n",
    "    dimy_top = int(dimy_zeros/2)\n",
    "    dimy_down = dimy_zeros-dimy_top\n",
    "\n",
    "    img_out = np.zeros((dimy, dimx, img.shape[2]))\n",
    "    img_out[dimy_top:dimy-dimy_down, dimx_left: dimx-dimx_right] = img\n",
    " #   for iter in range(img.shape[0]):\n",
    "#        for iter2 in range(img.shape[1]):\n",
    "#            img_out[dimy_top+iter, dimx_left+iter2, :] = img[iter, iter2, :]\n",
    "  #   \t     print(img[iter, iter2, :])\n",
    " #\t     print(img_out[iter+dimy_top, iter2+dimx_left, :])\n",
    "    return img_out\n"
   ]
  },
  {
   "cell_type": "code",
   "execution_count": 79,
   "metadata": {},
   "outputs": [],
   "source": [
    "def corr2d (img, ker):\n",
    "    #print(img.shape)\n",
    "    return np.multiply(img, ker).sum()\n",
    "\n",
    "def nonlinear_func(img):\n",
    "    return img"
   ]
  },
  {
   "cell_type": "code",
   "execution_count": 80,
   "metadata": {},
   "outputs": [],
   "source": [
    "def conv2d (input_img, ker, nonlinear_func, stride=(1,1), pad='same'):\n",
    "    img_out = []\n",
    "    if pad =='same':\n",
    "        dimy = stride[0]*(input_img.shape[0]-1)+ker.shape[0]\n",
    "        dimx = stride[1]*(input_img.shape[1]-1)+ker.shape[1]\n",
    "        img_padded = padding(input_img, dimx, dimy)\n",
    "        img_out = np.zeros((input_img.shape[0], input_img.shape[1]))\n",
    "    else:\n",
    "        dimy = input_img.shape[0]\n",
    "        dimx = input_img.shape[1]\n",
    "        img_padded = input_img\n",
    "        img_out = np.zeros((int((dimy-ker.shape[0])/stride[0])+1, (int((dimx-ker.shape[1])/stride[1])+1)))\n",
    "\n",
    "    ker_rev = np.zeros([ker.shape[1], ker.shape[0], ker.shape[2]])\n",
    "#     print(ker_rev.shape)\n",
    "#     print(ker.shape)\n",
    "    for iter in range(ker.shape[0]):\n",
    "        for iter2 in range(ker.shape[1]):\n",
    "            ker_rev[ker.shape[1]-1-iter2, ker.shape[0]-1-iter] = ker[iter, iter2]\n",
    "\n",
    "    ker_rev_y = ker_rev.shape[0]\n",
    "    ker_rev_x = ker_rev.shape[1]\n",
    "#     print(ker_rev_y)\n",
    "#     print(ker_rev_x)\n",
    "#     print(img_padded.shape)\n",
    "    for iter in range(int((dimy-ker_rev.shape[0])/stride[0]) +1):\n",
    "        for iter2 in range(int((dimx-ker_rev.shape[1])/stride[1])+1 ):\n",
    "\t    #print(iter)\n",
    "\t    #print(iter2)\n",
    "            img_out[iter, iter2] =corr2d(img_padded[iter*stride[0]:iter*stride[0]+ker_rev_y, iter2*stride[1]:iter2*stride[1]+ker_rev_x], ker_rev)\n",
    "#     print(img_out.shape)\n",
    "    return nonlinear_func(img_out)"
   ]
  },
  {
   "cell_type": "code",
   "execution_count": 81,
   "metadata": {},
   "outputs": [],
   "source": [
    "def pool_func(img):\n",
    "    return img.min()\n",
    "\n",
    "def pooling(input_img, pool_func, pool_window=(1,1), stride = (1,1)):\n",
    "    dimx = input_img.shape[1]\n",
    "    dimy = input_img.shape[0]\n",
    "    img_out = np.zeros((int((dimy-pool_window[0])/stride[0])+1, (int((dimx-pool_window[1])/stride[1])+1)))\n",
    "\n",
    "    pool_window_x = pool_window[1]\n",
    "    pool_window_y = pool_window[0]\n",
    "\n",
    "    for iter in range(int((dimy-pool_window_y)/stride[0]) +1):\n",
    "        for iter2 in range(int((dimx-pool_window_x)/stride[1])+1 ):\n",
    "\t    #print(iter)\n",
    "\t    #print(iter2)\n",
    "            img_out[iter, iter2] =pool_func(input_img[iter*stride[0]:iter*stride[0]+pool_window_y, iter2*stride[1]:iter2*stride[1]+pool_window_x])\n",
    "#     print(img_out.shape)\n",
    "    return img_out"
   ]
  },
  {
   "cell_type": "code",
   "execution_count": 82,
   "metadata": {},
   "outputs": [],
   "source": [
    "def conv_layer(input_img, num_kernels, nonlinear_func, kernels, stride = (1, 1), pad = 'same'):\n",
    "    if pad =='same':\n",
    "        dimy = stride[0]*(input_img.shape[0]-1)+kernels[0].shape[0]\n",
    "        dimx = stride[1]*(input_img.shape[1]-1)+kernels[0].shape[1]\n",
    "        img_padded = padding(input_img, dimx, dimy)\n",
    "        img_out = np.zeros((input_img.shape[0], input_img.shape[1], num_kernels))\n",
    "#         print(img_out.shape)\n",
    "    else:\n",
    "        dimy = input_img.shape[0]\n",
    "        dimx = input_img.shape[1]\n",
    "        img_padded = input_img\n",
    "        img_out = np.zeros((int((dimy-kernels[0].shape[0])/stride[0])+1, (int((dimx-kernels[0].shape[1])/stride[1])+1), num_kernels))\n",
    "    \n",
    "    for iter in range(num_kernels):\n",
    "#         print(kernels.shape)\n",
    "        img_out[:, :, iter] = conv2d(input_img, kernels[iter], nonlinear_func, stride, pad)\n",
    "#     print(input_img.shape)\n",
    "#     print(img_out.shape)\n",
    "#     print(pad)\n",
    "    return img_out"
   ]
  },
  {
   "cell_type": "code",
   "execution_count": 83,
   "metadata": {},
   "outputs": [],
   "source": [
    "def pool_layer(input_img, pool_func, pool_window=(1,1), stride = (1,1)):\n",
    "    dimy = input_img.shape[0]\n",
    "    dimx = input_img.shape[1]\n",
    "    img_out = np.zeros((int((dimy-pool_window[0])/stride[0])+1, (int((dimx-pool_window[1])/stride[1])+1), input_img.shape[2]))\n",
    "    for iter in range(input_img.shape[2]):\n",
    "#         print(input_img.shape)\n",
    "        img_out[:, :, iter] = pooling(input_img[:, :, iter], pool_func, pool_window, stride)\n",
    "    return img_out"
   ]
  },
  {
   "cell_type": "code",
   "execution_count": 89,
   "metadata": {},
   "outputs": [],
   "source": [
    "def conv_net(input_img, num_layers, ker_nums, kernels, strides, paddings, nonlinear_funcs, pool_funcs, pool_windows, pool_strides):\n",
    "    img_out = input_img\n",
    "    current_ker_count = 0\n",
    "    for iter in range(num_layers):\n",
    "        img_out = conv_layer(img_out, ker_nums[iter], nonlinear_funcs[iter], kernels[current_ker_count:current_ker_count+ker_nums[iter]], strides[iter], paddings[iter] )\n",
    "        current_ker_count = current_ker_count + ker_nums[iter]\n",
    "        img_out = pool_layer(img_out, pool_funcs[iter], pool_windows[iter], pool_strides[iter])\n",
    "        print(img_out.shape)\n",
    "    return img_out\n"
   ]
  },
  {
   "cell_type": "code",
   "execution_count": 90,
   "metadata": {},
   "outputs": [],
   "source": [
    "# ####Testing the conv_layer\n",
    "# img = cv2.imread('image.png')\n",
    "# ker1 = np.zeros((10, 10, 3))\n",
    "# ker12 = np.ones((10, 10, 3))/30000\n",
    "# ker1[5, 5, :] = 1\n",
    "# # print(ker1)\n",
    "# ker2 = []\n",
    "# ker2.append(ker1)\n",
    "# ker2.append(ker12)\n",
    "# img_out1 = conv_layer(img, 2, nonlinear_func, np.array(ker2),  stride = (5, 5), pad = 'valid')\n",
    "# print(img_out1.shape)\n",
    "# img_out1 = pool_layer(img_out1, pool_func, pool_window=(2,2), stride = (2,2))\n",
    "# # img_out1 = pooling(img_out1, pool_func, pool_window=(2,2), stride = (2,2))\n",
    "# # img_out1 = conv2d(img, ker1*1000, nonlinear_func, stride = (5, 5), pad = 'valid')\n",
    "# # plt.imshow(img_out1, cmap = 'gray')\n",
    "# #img_out1 = padding(img, img.shape[1]+10, img.shape[0]+1000)\n",
    "# # print(img_out1.shape[2])\n",
    "\n",
    "# fig = plt.figure(figsize=(img_out1.shape[0], img_out1.shape[1]))  # width, height in inches\n",
    "\n",
    "# for i in range(img_out1.shape[2]):\n",
    "#     sub = fig.add_subplot(img_out1.shape[2], 1, i + 1)\n",
    "#     sub.imshow(img_out1[:,:, i], cmap = 'gray', norm=None)\n",
    "\n",
    "# plt.show()"
   ]
  },
  {
   "cell_type": "code",
   "execution_count": 100,
   "metadata": {},
   "outputs": [
    {
     "name": "stdout",
     "output_type": "stream",
     "text": [
      "(331, 499, 2)\n",
      "(108, 164, 3)\n"
     ]
    }
   ],
   "source": [
    "img = cv2.imread('image.png')\n",
    "num_layers = 2\n",
    "\n",
    "ker_nums_layer1 = 2\n",
    "ker_nums_layer2 = 3\n",
    "ker_nums = []\n",
    "\n",
    "ker_nums.append(ker_nums_layer1)\n",
    "ker_nums.append(ker_nums_layer2)\n",
    "\n",
    "kernels = []\n",
    "\n",
    "kl1n1 = np.ones((4, 4, 3))\n",
    "kl1n2 = np.zeros((4, 4, 3))\n",
    "kl1n2[2, 2, :] = 1\n",
    "\n",
    "kernels.append(kl1n1)\n",
    "kernels.append(kl1n2)\n",
    "\n",
    "kl2n1 = np.random.randint(2, size = (6, 6, 2))\n",
    "kl2n2 = np.ones((6, 6, 2))\n",
    "kl2n3 = np.random.randint(10, size = (6, 6, 2))\n",
    "\n",
    "kernels.append(kl2n1)\n",
    "kernels.append(kl2n2)\n",
    "kernels.append(kl2n3)\n",
    "\n",
    "kernels = np.array(kernels)\n",
    "\n",
    "# print(kernels[3].shape)\n",
    "\n",
    "stridel1 = (2, 2)\n",
    "stridel2 = (3, 3)\n",
    "\n",
    "strides = []\n",
    "strides.append(stridel1)\n",
    "strides.append(stridel2)\n",
    "\n",
    "# print(strides)\n",
    "\n",
    "paddingl1 = 'same'\n",
    "paddingl2 = 'valid'\n",
    "\n",
    "paddings = []\n",
    "paddings.append(paddingl1)\n",
    "paddings.append(paddingl2)\n",
    "\n",
    "# print(paddings)\n",
    "\n",
    "nonlinear_funcl1 = nonlinear_func\n",
    "nonlinear_funcl2 = nonlinear_func\n",
    "\n",
    "nonlinear_funcs = []\n",
    "nonlinear_funcs.append(nonlinear_funcl1)\n",
    "nonlinear_funcs.append(nonlinear_funcl2)\n",
    "\n",
    "# print(nonlinear_funcs)\n",
    "\n",
    "pool_funcl1 = pool_func\n",
    "pool_funcl2 = pool_func\n",
    "\n",
    "pool_funcs = []\n",
    "pool_funcs.append(pool_funcl1) \n",
    "pool_funcs.append(pool_funcl2) \n",
    "\n",
    "# print(pool_funcs)\n",
    "\n",
    "pool_windowl1 = (3, 3)\n",
    "pool_windowl2 = (2, 2)\n",
    "\n",
    "pool_windows = []\n",
    "pool_windows.append(pool_windowl1)\n",
    "pool_windows.append(pool_windowl2)\n",
    "\n",
    "# print(pool_windows)\n",
    "\n",
    "pool_stridel1 = (2, 2)\n",
    "pool_stridel2 = (1,1)\n",
    "\n",
    "pool_strides = []\n",
    "pool_strides.append(pool_stridel1)\n",
    "pool_strides.append(pool_stridel2)\n",
    "\n",
    "# print(pool_strides)\n",
    "\n",
    "img_out3 = conv_net(img, num_layers, ker_nums, kernels, strides, paddings, nonlinear_funcs, pool_funcs, pool_windows, pool_strides)\n"
   ]
  },
  {
   "cell_type": "code",
   "execution_count": 103,
   "metadata": {},
   "outputs": [
    {
     "name": "stdout",
     "output_type": "stream",
     "text": [
      "(108, 164)\n"
     ]
    },
    {
     "data": {
      "text/plain": [
       "<matplotlib.image.AxesImage at 0x25cd7b2d7b8>"
      ]
     },
     "execution_count": 103,
     "metadata": {},
     "output_type": "execute_result"
    },
    {
     "data": {
      "image/png": "[encoded data removed]",
      "text/plain": [
       "<Figure size 432x288 with 1 Axes>"
      ]
     },
     "metadata": {
      "needs_background": "light"
     },
     "output_type": "display_data"
    }
   ],
   "source": [
    "print(img_out3[:, :, 1].shape)\n",
    "plt.imshow(img_out3[:, :, 2], cmap='gray')"
   ]
  },
  {
   "cell_type": "code",
   "execution_count": null,
   "metadata": {},
   "outputs": [],
   "source": []
  }
 ],
 "metadata": {
  "kernelspec": {
   "display_name": "Python 3",
   "language": "python",
   "name": "python3"
  },
  "language_info": {
   "codemirror_mode": {
    "name": "ipython",
    "version": 3
   },
   "file_extension": ".py",
   "mimetype": "text/x-python",
   "name": "python",
   "nbconvert_exporter": "python",
   "pygments_lexer": "ipython3",
   "version": "3.6.8"
  }
 },
 "nbformat": 4,
 "nbformat_minor": 2
}
