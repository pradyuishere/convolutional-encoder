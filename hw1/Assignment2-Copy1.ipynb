{
 "cells": [
  {
   "cell_type": "code",
   "execution_count": 1,
   "metadata": {},
   "outputs": [],
   "source": [
    "import numpy as np\n",
    "from tensorflow.examples.tutorials.mnist import input_data\n",
    "from set_of_func import *"
   ]
  },
  {
   "cell_type": "code",
   "execution_count": 2,
   "metadata": {},
   "outputs": [
    {
     "name": "stdout",
     "output_type": "stream",
     "text": [
      "WARNING:tensorflow:From <ipython-input-2-2940a06976df>:1: read_data_sets (from tensorflow.contrib.learn.python.learn.datasets.mnist) is deprecated and will be removed in a future version.\n",
      "Instructions for updating:\n",
      "Please use alternatives such as official/mnist/dataset.py from tensorflow/models.\n",
      "WARNING:tensorflow:From C:\\ProgramData\\Anaconda2\\lib\\site-packages\\tensorflow\\contrib\\learn\\python\\learn\\datasets\\mnist.py:260: maybe_download (from tensorflow.contrib.learn.python.learn.datasets.base) is deprecated and will be removed in a future version.\n",
      "Instructions for updating:\n",
      "Please write your own downloading logic.\n",
      "WARNING:tensorflow:From C:\\ProgramData\\Anaconda2\\lib\\site-packages\\tensorflow\\contrib\\learn\\python\\learn\\datasets\\mnist.py:262: extract_images (from tensorflow.contrib.learn.python.learn.datasets.mnist) is deprecated and will be removed in a future version.\n",
      "Instructions for updating:\n",
      "Please use tf.data to implement this functionality.\n",
      "Extracting MNIST_data/train-images-idx3-ubyte.gz\n",
      "WARNING:tensorflow:From C:\\ProgramData\\Anaconda2\\lib\\site-packages\\tensorflow\\contrib\\learn\\python\\learn\\datasets\\mnist.py:267: extract_labels (from tensorflow.contrib.learn.python.learn.datasets.mnist) is deprecated and will be removed in a future version.\n",
      "Instructions for updating:\n",
      "Please use tf.data to implement this functionality.\n",
      "Extracting MNIST_data/train-labels-idx1-ubyte.gz\n",
      "WARNING:tensorflow:From C:\\ProgramData\\Anaconda2\\lib\\site-packages\\tensorflow\\contrib\\learn\\python\\learn\\datasets\\mnist.py:110: dense_to_one_hot (from tensorflow.contrib.learn.python.learn.datasets.mnist) is deprecated and will be removed in a future version.\n",
      "Instructions for updating:\n",
      "Please use tf.one_hot on tensors.\n",
      "Extracting MNIST_data/t10k-images-idx3-ubyte.gz\n",
      "Extracting MNIST_data/t10k-labels-idx1-ubyte.gz\n",
      "WARNING:tensorflow:From C:\\ProgramData\\Anaconda2\\lib\\site-packages\\tensorflow\\contrib\\learn\\python\\learn\\datasets\\mnist.py:290: DataSet.__init__ (from tensorflow.contrib.learn.python.learn.datasets.mnist) is deprecated and will be removed in a future version.\n",
      "Instructions for updating:\n",
      "Please use alternatives such as official/mnist/dataset.py from tensorflow/models.\n"
     ]
    }
   ],
   "source": [
    "mnist = input_data.read_data_sets(\"MNIST_data/\", one_hot = True)\n",
    "X_train_temp = np.vstack([img.reshape((28, 28)) for img in mnist.train.images])\n",
    "Y_train_temp = mnist.train.labels\n",
    "X_test_temp  = np.vstack([img.reshape(28, 28) for img in mnist.test.images])\n",
    "Y_test_temp  = mnist.test.labels\n",
    "\n",
    "del mnist\n",
    "X_train = np.zeros([28, 28, int(X_train_temp.shape[0]/28)])\n",
    "\n",
    "for iter in range(int(X_train_temp.shape[0]/28)):\n",
    "    X_train[:, :, iter] = X_train_temp[iter*28:(iter+1)*28, :]\n",
    "\n",
    "X_test = np.zeros([28, 28, int(X_test_temp.shape[0]/28)])\n",
    "for iter in range(int(X_test_temp.shape[0]/28)):\n",
    "    X_test[:, :, iter] = X_test_temp[iter*28:(iter+1)*28, :]\n",
    "\n",
    "Y_train = np.transpose(Y_train_temp)\n",
    "Y_test = np.transpose(Y_test_temp)"
   ]
  },
  {
   "cell_type": "code",
   "execution_count": 3,
   "metadata": {},
   "outputs": [],
   "source": [
    "def ReLU(x):\n",
    "    mask  = (x >0) * 1.0\n",
    "    return np.multiply(mask, x)\n",
    "\n",
    "def der_ReLU(x):\n",
    "    mask  = (x >0) * 1.0\n",
    "    return np.matrix(mask)\n",
    "\n",
    "def softmax(x):\n",
    "    x = x/x.max()\n",
    "    e_x = np.exp(x)\n",
    "    return e_x / e_x.sum()\n",
    "\n",
    "def pool_func(img):\n",
    "    return img.max()\n",
    "\n",
    "def cross_entropy(predictions, targets, epsilon=1e-5):\n",
    "    \"\"\"\n",
    "    Computes cross entropy between targets (encoded as one-hot vectors)\n",
    "    and predictions. \n",
    "    Input: predictions (N, k) ndarray\n",
    "           targets (N, k) ndarray        \n",
    "    Returns: scalar\n",
    "    \"\"\"\n",
    "    predictions = np.clip(predictions, epsilon, 1. - epsilon)\n",
    "    ce = - np.mean(np.log(predictions) * targets) \n",
    "    return ce\n",
    "\n",
    "def shuffle(x, y):\n",
    "    indeces = np.array(range(x.shape[2]))\n",
    "    temp_x = np.zeros(x.shape)\n",
    "    temp_y = np.zeros(y.shape)\n",
    "    np.random.shuffle(indeces)\n",
    "    for iter in range(x.shape[2]):\n",
    "        temp_x[:, :, indeces[iter]] = x[:, :, iter]\n",
    "        temp_y[:, indeces[iter]] = y[:, iter]\n",
    "    return x, y"
   ]
  },
  {
   "cell_type": "code",
   "execution_count": 4,
   "metadata": {},
   "outputs": [],
   "source": [
    "################################################################################\n",
    "##Initialize the sizes and weights for the conv_net\n",
    "num_layers = 2\n",
    "np.random.seed(100)\n",
    "ker_nums_layer1 = 8\n",
    "ker_nums_layer2 = 16\n",
    "\n",
    "ker_nums = []\n",
    "ker_nums.append(ker_nums_layer1)\n",
    "ker_nums.append(ker_nums_layer2)\n",
    "\n",
    "kernels = []\n",
    "\n",
    "ker_dim_layer1 = 5\n",
    "ker_dim_layer2 = 5\n",
    "\n",
    "biases = []\n",
    "\n",
    "for iter in range(ker_nums_layer1):\n",
    "    kernels.append(np.random.uniform(-1e-2, 1e-2,size = [ker_dim_layer1, ker_dim_layer1]))\n",
    "    biases.append(1)\n",
    "\n",
    "for iter in range(ker_nums_layer2):\n",
    "    kernels.append(np.random.uniform(-1e-2, 1e-2,size = [ker_dim_layer2, ker_dim_layer2, ker_nums_layer1]))\n",
    "    biases.append(1)\n",
    "\n",
    "strides = []\n",
    "strides.append((1, 1))\n",
    "strides.append((1, 1))\n",
    "\n",
    "paddings = []\n",
    "paddings.append('valid')\n",
    "paddings.append('valid')\n",
    "\n",
    "non_linear_funcs = []\n",
    "non_linear_funcs.append(ReLU)\n",
    "non_linear_funcs.append(ReLU)\n",
    "\n",
    "pool_funcs = []\n",
    "pool_funcs.append(pool_func)\n",
    "pool_funcs.append(pool_func)\n",
    "\n",
    "pool_windows = []\n",
    "pool_windows.append((2, 2))\n",
    "pool_windows.append((2, 2))\n",
    "\n",
    "pool_strides = []\n",
    "pool_strides.append((2, 2))\n",
    "pool_strides.append((2, 2))\n",
    "################################################################################\n",
    "##Unravel weights setup\n",
    "weight_dense = np.random.normal(size = [784, 1024])\n",
    "bias_dense   = np.random.normal(size = [1024, 1])\n",
    "\n",
    "num_layers = 2\n",
    "\n",
    "layer_sizes = []\n",
    "layer_sizes.append(1024)\n",
    "layer_sizes.append(10)\n",
    "\n",
    "weights = []\n",
    "weights.append(weight_dense)\n",
    "weights.append(np.random.normal(size = [1024, 10]))\n",
    "\n",
    "bias = []\n",
    "bias.append(bias_dense)\n",
    "bias.append(np.random.normal(size = [10, 1]))\n",
    "\n",
    "activation_funcs = []\n",
    "activation_funcs.append(ReLU)\n",
    "activation_funcs.append(linear_func)\n",
    "################################################################################"
   ]
  },
  {
   "cell_type": "code",
   "execution_count": 6,
   "metadata": {},
   "outputs": [
    {
     "name": "stdout",
     "output_type": "stream",
     "text": [
      "0\n",
      "10\n",
      "plotting the first pooled image from the first layer\n"
     ]
    },
    {
     "data": {
      "image/png": "[encoded data removed]",
      "text/plain": [
       "<Figure size 432x288 with 1 Axes>"
      ]
     },
     "metadata": {
      "needs_background": "light"
     },
     "output_type": "display_data"
    },
    {
     "name": "stdout",
     "output_type": "stream",
     "text": [
      "accuracy :  0.1\n",
      "loss :  2.546031418640889\n",
      "0\n",
      "10\n",
      "plotting the first pooled image from the first layer\n"
     ]
    },
    {
     "data": {
      "image/png": "[encoded data removed]",
      "text/plain": [
       "<Figure size 432x288 with 1 Axes>"
      ]
     },
     "metadata": {
      "needs_background": "light"
     },
     "output_type": "display_data"
    },
    {
     "name": "stdout",
     "output_type": "stream",
     "text": [
      "accuracy :  0.15\n",
      "loss :  2.3200294491074205\n",
      "0\n",
      "10\n",
      "plotting the first pooled image from the first layer\n"
     ]
    },
    {
     "data": {
      "image/png": "[encoded data removed]",
      "text/plain": [
       "<Figure size 432x288 with 1 Axes>"
      ]
     },
     "metadata": {
      "needs_background": "light"
     },
     "output_type": "display_data"
    },
    {
     "name": "stdout",
     "output_type": "stream",
     "text": [
      "accuracy :  0.05\n",
      "loss :  2.4222759970731236\n",
      "0\n",
      "10\n",
      "plotting the first pooled image from the first layer\n"
     ]
    },
    {
     "data": {
      "image/png": "[encoded data removed]",
      "text/plain": [
       "<Figure size 432x288 with 1 Axes>"
      ]
     },
     "metadata": {
      "needs_background": "light"
     },
     "output_type": "display_data"
    },
    {
     "name": "stdout",
     "output_type": "stream",
     "text": [
      "accuracy :  0.1\n",
      "loss :  2.378720283809149\n",
      "0\n",
      "10\n",
      "plotting the first pooled image from the first layer\n"
     ]
    },
    {
     "data": {
      "image/png": "[encoded data removed]",
      "text/plain": [
       "<Figure size 432x288 with 1 Axes>"
      ]
     },
     "metadata": {
      "needs_background": "light"
     },
     "output_type": "display_data"
    },
    {
     "name": "stdout",
     "output_type": "stream",
     "text": [
      "accuracy :  0.2\n",
      "loss :  2.152345085381608\n",
      "0\n",
      "10\n",
      "plotting the first pooled image from the first layer\n"
     ]
    },
    {
     "data": {
      "image/png": "[encoded data removed]",
      "text/plain": [
       "<Figure size 432x288 with 1 Axes>"
      ]
     },
     "metadata": {
      "needs_background": "light"
     },
     "output_type": "display_data"
    },
    {
     "name": "stdout",
     "output_type": "stream",
     "text": [
      "accuracy :  0.2\n",
      "loss :  2.3462714511326404\n",
      "0\n"
     ]
    },
    {
     "ename": "KeyboardInterrupt",
     "evalue": "",
     "output_type": "error",
     "traceback": [
      "\u001b[1;31m---------------------------------------------------------------------------\u001b[0m",
      "\u001b[1;31mKeyboardInterrupt\u001b[0m                         Traceback (most recent call last)",
      "\u001b[1;32m<ipython-input-6-57a0d866026d>\u001b[0m in \u001b[0;36m<module>\u001b[1;34m\u001b[0m\n\u001b[0;32m     31\u001b[0m         \u001b[0mthis_img_out\u001b[0m \u001b[1;33m=\u001b[0m \u001b[0mnp\u001b[0m\u001b[1;33m.\u001b[0m\u001b[0mtranspose\u001b[0m\u001b[1;33m(\u001b[0m\u001b[0mthis_img_out\u001b[0m\u001b[1;33m)\u001b[0m\u001b[1;33m\u001b[0m\u001b[1;33m\u001b[0m\u001b[0m\n\u001b[0;32m     32\u001b[0m \u001b[1;33m\u001b[0m\u001b[0m\n\u001b[1;32m---> 33\u001b[1;33m         \u001b[0mimg_conv_1\u001b[0m \u001b[1;33m=\u001b[0m \u001b[1;33m(\u001b[0m\u001b[0mconv_layer\u001b[0m\u001b[1;33m(\u001b[0m\u001b[0mthis_img_in\u001b[0m\u001b[1;33m,\u001b[0m \u001b[0mker_nums_layer1\u001b[0m\u001b[1;33m,\u001b[0m \u001b[0mReLU\u001b[0m\u001b[1;33m,\u001b[0m \u001b[0mkernels\u001b[0m\u001b[1;33m[\u001b[0m\u001b[1;36m0\u001b[0m\u001b[1;33m:\u001b[0m\u001b[0mker_nums_layer1\u001b[0m\u001b[1;33m]\u001b[0m\u001b[1;33m,\u001b[0m \u001b[0mbiases\u001b[0m\u001b[1;33m[\u001b[0m\u001b[1;36m0\u001b[0m\u001b[1;33m:\u001b[0m\u001b[0mker_nums_layer1\u001b[0m\u001b[1;33m]\u001b[0m\u001b[1;33m,\u001b[0m \u001b[0mstride\u001b[0m \u001b[1;33m=\u001b[0m \u001b[1;33m(\u001b[0m\u001b[1;36m1\u001b[0m\u001b[1;33m,\u001b[0m \u001b[1;36m1\u001b[0m\u001b[1;33m)\u001b[0m\u001b[1;33m,\u001b[0m \u001b[0mpad\u001b[0m \u001b[1;33m=\u001b[0m \u001b[1;34m'same'\u001b[0m\u001b[1;33m)\u001b[0m\u001b[1;33m)\u001b[0m\u001b[1;33m\u001b[0m\u001b[1;33m\u001b[0m\u001b[0m\n\u001b[0m\u001b[0;32m     34\u001b[0m         \u001b[0mimg_pool_1\u001b[0m \u001b[1;33m=\u001b[0m \u001b[0mpool_layer\u001b[0m\u001b[1;33m(\u001b[0m\u001b[0mimg_conv_1\u001b[0m\u001b[1;33m,\u001b[0m \u001b[0mpool_func\u001b[0m\u001b[1;33m,\u001b[0m \u001b[1;33m(\u001b[0m\u001b[1;36m2\u001b[0m\u001b[1;33m,\u001b[0m \u001b[1;36m2\u001b[0m\u001b[1;33m)\u001b[0m\u001b[1;33m,\u001b[0m \u001b[1;33m(\u001b[0m\u001b[1;36m2\u001b[0m\u001b[1;33m,\u001b[0m \u001b[1;36m2\u001b[0m\u001b[1;33m)\u001b[0m\u001b[1;33m)\u001b[0m\u001b[1;33m\u001b[0m\u001b[1;33m\u001b[0m\u001b[0m\n\u001b[0;32m     35\u001b[0m \u001b[1;33m\u001b[0m\u001b[0m\n",
      "\u001b[1;32m~\\Google Drive\\Books\\deep_learning\\convolutional-encoder\\hw1\\set_of_func.py\u001b[0m in \u001b[0;36mconv_layer\u001b[1;34m(input_img, num_kernels, nonlinear_func, kernels, biases, stride, pad)\u001b[0m\n\u001b[0;32m     98\u001b[0m \u001b[1;33m\u001b[0m\u001b[0m\n\u001b[0;32m     99\u001b[0m     \u001b[1;32mfor\u001b[0m \u001b[0miter\u001b[0m \u001b[1;32min\u001b[0m \u001b[0mrange\u001b[0m\u001b[1;33m(\u001b[0m\u001b[0mnum_kernels\u001b[0m\u001b[1;33m)\u001b[0m\u001b[1;33m:\u001b[0m\u001b[1;33m\u001b[0m\u001b[1;33m\u001b[0m\u001b[0m\n\u001b[1;32m--> 100\u001b[1;33m         \u001b[0mimg_out\u001b[0m\u001b[1;33m[\u001b[0m\u001b[1;33m:\u001b[0m\u001b[1;33m,\u001b[0m \u001b[1;33m:\u001b[0m\u001b[1;33m,\u001b[0m \u001b[0miter\u001b[0m\u001b[1;33m]\u001b[0m \u001b[1;33m=\u001b[0m \u001b[0mconv2d\u001b[0m\u001b[1;33m(\u001b[0m\u001b[0minput_img\u001b[0m\u001b[1;33m,\u001b[0m \u001b[0mkernels\u001b[0m\u001b[1;33m[\u001b[0m\u001b[0miter\u001b[0m\u001b[1;33m]\u001b[0m\u001b[1;33m,\u001b[0m \u001b[0mbiases\u001b[0m\u001b[1;33m[\u001b[0m\u001b[0miter\u001b[0m\u001b[1;33m]\u001b[0m\u001b[1;33m,\u001b[0m \u001b[0mnonlinear_func\u001b[0m\u001b[1;33m,\u001b[0m \u001b[0mstride\u001b[0m\u001b[1;33m,\u001b[0m \u001b[0mpad\u001b[0m\u001b[1;33m)\u001b[0m\u001b[1;33m\u001b[0m\u001b[1;33m\u001b[0m\u001b[0m\n\u001b[0m\u001b[0;32m    101\u001b[0m     \u001b[1;32mreturn\u001b[0m \u001b[0mimg_out\u001b[0m\u001b[1;33m\u001b[0m\u001b[1;33m\u001b[0m\u001b[0m\n\u001b[0;32m    102\u001b[0m \u001b[1;33m\u001b[0m\u001b[0m\n",
      "\u001b[1;32m~\\Google Drive\\Books\\deep_learning\\convolutional-encoder\\hw1\\set_of_func.py\u001b[0m in \u001b[0;36mconv2d\u001b[1;34m(input_img, ker, bias, nonlinear_func, stride, pad)\u001b[0m\n\u001b[0;32m     67\u001b[0m     \u001b[1;32mfor\u001b[0m \u001b[0miter\u001b[0m \u001b[1;32min\u001b[0m \u001b[0mrange\u001b[0m\u001b[1;33m(\u001b[0m\u001b[0mint\u001b[0m\u001b[1;33m(\u001b[0m\u001b[1;33m(\u001b[0m\u001b[0mdimy\u001b[0m\u001b[1;33m-\u001b[0m\u001b[0mker_rev\u001b[0m\u001b[1;33m.\u001b[0m\u001b[0mshape\u001b[0m\u001b[1;33m[\u001b[0m\u001b[1;36m0\u001b[0m\u001b[1;33m]\u001b[0m\u001b[1;33m)\u001b[0m\u001b[1;33m/\u001b[0m\u001b[0mstride\u001b[0m\u001b[1;33m[\u001b[0m\u001b[1;36m0\u001b[0m\u001b[1;33m]\u001b[0m\u001b[1;33m)\u001b[0m \u001b[1;33m+\u001b[0m\u001b[1;36m1\u001b[0m\u001b[1;33m)\u001b[0m\u001b[1;33m:\u001b[0m\u001b[1;33m\u001b[0m\u001b[1;33m\u001b[0m\u001b[0m\n\u001b[0;32m     68\u001b[0m         \u001b[1;32mfor\u001b[0m \u001b[0miter2\u001b[0m \u001b[1;32min\u001b[0m \u001b[0mrange\u001b[0m\u001b[1;33m(\u001b[0m\u001b[0mint\u001b[0m\u001b[1;33m(\u001b[0m\u001b[1;33m(\u001b[0m\u001b[0mdimx\u001b[0m\u001b[1;33m-\u001b[0m\u001b[0mker_rev\u001b[0m\u001b[1;33m.\u001b[0m\u001b[0mshape\u001b[0m\u001b[1;33m[\u001b[0m\u001b[1;36m1\u001b[0m\u001b[1;33m]\u001b[0m\u001b[1;33m)\u001b[0m\u001b[1;33m/\u001b[0m\u001b[0mstride\u001b[0m\u001b[1;33m[\u001b[0m\u001b[1;36m1\u001b[0m\u001b[1;33m]\u001b[0m\u001b[1;33m)\u001b[0m\u001b[1;33m+\u001b[0m\u001b[1;36m1\u001b[0m \u001b[1;33m)\u001b[0m\u001b[1;33m:\u001b[0m\u001b[1;33m\u001b[0m\u001b[1;33m\u001b[0m\u001b[0m\n\u001b[1;32m---> 69\u001b[1;33m             \u001b[0mimg_out\u001b[0m\u001b[1;33m[\u001b[0m\u001b[0miter\u001b[0m\u001b[1;33m,\u001b[0m \u001b[0miter2\u001b[0m\u001b[1;33m]\u001b[0m \u001b[1;33m=\u001b[0m\u001b[0mcorr2d\u001b[0m\u001b[1;33m(\u001b[0m\u001b[0mimg_padded\u001b[0m\u001b[1;33m[\u001b[0m\u001b[0miter\u001b[0m\u001b[1;33m*\u001b[0m\u001b[0mstride\u001b[0m\u001b[1;33m[\u001b[0m\u001b[1;36m0\u001b[0m\u001b[1;33m]\u001b[0m\u001b[1;33m:\u001b[0m\u001b[0miter\u001b[0m\u001b[1;33m*\u001b[0m\u001b[0mstride\u001b[0m\u001b[1;33m[\u001b[0m\u001b[1;36m0\u001b[0m\u001b[1;33m]\u001b[0m\u001b[1;33m+\u001b[0m\u001b[0mker_rev_y\u001b[0m\u001b[1;33m,\u001b[0m \u001b[0miter2\u001b[0m\u001b[1;33m*\u001b[0m\u001b[0mstride\u001b[0m\u001b[1;33m[\u001b[0m\u001b[1;36m1\u001b[0m\u001b[1;33m]\u001b[0m\u001b[1;33m:\u001b[0m\u001b[0miter2\u001b[0m\u001b[1;33m*\u001b[0m\u001b[0mstride\u001b[0m\u001b[1;33m[\u001b[0m\u001b[1;36m1\u001b[0m\u001b[1;33m]\u001b[0m\u001b[1;33m+\u001b[0m\u001b[0mker_rev_x\u001b[0m\u001b[1;33m]\u001b[0m\u001b[1;33m,\u001b[0m \u001b[0mker_rev\u001b[0m\u001b[1;33m)\u001b[0m\u001b[1;33m\u001b[0m\u001b[1;33m\u001b[0m\u001b[0m\n\u001b[0m\u001b[0;32m     70\u001b[0m \u001b[1;33m\u001b[0m\u001b[0m\n\u001b[0;32m     71\u001b[0m \u001b[1;31m#     print(\"######################################################################\")\u001b[0m\u001b[1;33m\u001b[0m\u001b[1;33m\u001b[0m\u001b[1;33m\u001b[0m\u001b[0m\n",
      "\u001b[1;32m~\\Google Drive\\Books\\deep_learning\\convolutional-encoder\\hw1\\set_of_func.py\u001b[0m in \u001b[0;36mcorr2d\u001b[1;34m(img, ker)\u001b[0m\n\u001b[0;32m     21\u001b[0m \u001b[1;33m\u001b[0m\u001b[0m\n\u001b[0;32m     22\u001b[0m \u001b[1;32mdef\u001b[0m \u001b[0mcorr2d\u001b[0m \u001b[1;33m(\u001b[0m\u001b[0mimg\u001b[0m\u001b[1;33m,\u001b[0m \u001b[0mker\u001b[0m\u001b[1;33m)\u001b[0m\u001b[1;33m:\u001b[0m\u001b[1;33m\u001b[0m\u001b[1;33m\u001b[0m\u001b[0m\n\u001b[1;32m---> 23\u001b[1;33m     \u001b[1;32mreturn\u001b[0m \u001b[0mnp\u001b[0m\u001b[1;33m.\u001b[0m\u001b[0mmultiply\u001b[0m\u001b[1;33m(\u001b[0m\u001b[0mimg\u001b[0m\u001b[1;33m,\u001b[0m \u001b[0mker\u001b[0m\u001b[1;33m)\u001b[0m\u001b[1;33m.\u001b[0m\u001b[0msum\u001b[0m\u001b[1;33m(\u001b[0m\u001b[1;33m)\u001b[0m\u001b[1;33m\u001b[0m\u001b[1;33m\u001b[0m\u001b[0m\n\u001b[0m\u001b[0;32m     24\u001b[0m \u001b[1;33m\u001b[0m\u001b[0m\n\u001b[0;32m     25\u001b[0m \u001b[1;33m\u001b[0m\u001b[0m\n",
      "\u001b[1;31mKeyboardInterrupt\u001b[0m: "
     ]
    }
   ],
   "source": [
    "num_epoch = 15\n",
    "num_img = 20\n",
    "batch_size = 10\n",
    "learning_rate = 0.00001\n",
    "errors = []\n",
    "errors_acc = []\n",
    "errors_test = []\n",
    "errors_acc_test = []\n",
    "corrects = 0\n",
    "mistakes = 0\n",
    "accuracy = []\n",
    "accuracy_test = []\n",
    "corrects_test = 0\n",
    "mistakes_test = 0\n",
    "for iter3 in range(num_epoch):\n",
    "    kernels_cc = kernels\n",
    "    biases_cc = biases\n",
    "    weights_mlp = weights\n",
    "    bias_mlp = bias\n",
    "    X_train_temp, Y_train_temp = shuffle(X_train, Y_train)\n",
    "    X_test_temp, Y_test_temp = shuffle(X_test, Y_test)\n",
    "    for iter4 in range(num_img):\n",
    "        if(iter4%10==0):\n",
    "            print(iter4)\n",
    "        this_iter = np.random.randint(0, X_train.shape[2])\n",
    "        this_img_in = np.zeros((28, 28, 1))\n",
    "        this_img_in[:, :, 0] = X_train_temp[:, :, this_iter]\n",
    "#         plt.imshow(this_img_in[:, :, 0])\n",
    "#         plt.show()\n",
    "        this_img_out = np.matrix(Y_train_temp[:, this_iter])\n",
    "        this_img_out = np.transpose(this_img_out)\n",
    "\n",
    "        img_conv_1 = (conv_layer(this_img_in, ker_nums_layer1, ReLU, kernels[0:ker_nums_layer1], biases[0:ker_nums_layer1], stride = (1, 1), pad = 'same'))\n",
    "        img_pool_1 = pool_layer(img_conv_1, pool_func, (2, 2), (2, 2))\n",
    "\n",
    "        img_conv_2 = (conv_layer(img_pool_1, ker_nums_layer2, ReLU, kernels[ker_nums_layer1:ker_nums_layer2+ker_nums_layer1], biases[ker_nums_layer1:ker_nums_layer2+ker_nums_layer1], stride = (1, 1), pad = 'same'))\n",
    "        img_pool_2 = pool_layer(img_conv_2, pool_func, (2, 2), (2, 2))\n",
    "        \n",
    "\n",
    "        dense_1_in = np.transpose(np.matrix(img_pool_2.flatten()))\n",
    "#         print(dense_1_in.shape)\n",
    "        dense_1_out = activation_funcs[0](np.matmul(np.transpose(weights[0]), dense_1_in)+bias[0])\n",
    "#         print(dense_1_out.shape)\n",
    "        dense_2_out = activation_funcs[1](np.matmul(np.transpose(weights[1]), dense_1_out)+bias[1])\n",
    "#         print(dense_2_out.shape)\n",
    "        final_out = softmax(dense_2_out)\n",
    "\n",
    "        grad_2_wt = np.matmul((np.matrix(final_out-this_img_out)), np.transpose(dense_1_out))\n",
    "        grad_2_wt = np.transpose(grad_2_wt)\n",
    "        grad_2_bi = (final_out-this_img_out)\n",
    "        grad_2_pre = (final_out-this_img_out)\n",
    "\n",
    "        grad_1_wt = np.matmul(np.multiply(np.matmul(weights[1], grad_2_pre), der_ReLU(dense_1_out)), np.transpose(dense_1_in))\n",
    "        grad_1_wt = np.transpose(grad_1_wt)\n",
    "        grad_1_bi = np.multiply(np.matmul(weights[1], grad_2_pre), der_ReLU(dense_1_out))\n",
    "        grad_1_pre = np.multiply(np.matmul(weights[1], grad_2_pre), der_ReLU(dense_1_out))\n",
    "\n",
    "        cc_out = np.matmul(weights[0], grad_1_pre)\n",
    "        #######################################################################################################################\n",
    "        cc_err_out = np.reshape(np.array(cc_out), img_pool_2.shape)\n",
    "        \n",
    "        grad_conv_2 = []\n",
    "        unpool_layer_2_mask = np.equal(img_conv_2, img_pool_2.repeat(2, axis = 0).repeat(2, axis = 1)).astype(int)\n",
    "        cc_err_back_layer2 = np.multiply(unpool_layer_2_mask, cc_err_out.repeat(2, axis = 0).repeat(2, axis = 1))\n",
    "        \n",
    "        der_temp_img = conv_layer(img_pool_1, ker_nums_layer2, ReLU, kernels[ker_nums_layer1:ker_nums_layer2+ker_nums_layer1], biases[ker_nums_layer1:ker_nums_layer2+ker_nums_layer1], stride = (1, 1), pad = 'same')\n",
    "\n",
    "        for iter in range(ker_nums_layer2):\n",
    "            grads_1 = np.zeros([5, 5, ker_nums_layer1])\n",
    "            for iter2 in range(ker_nums_layer1):\n",
    "                img_2_pad = np.zeros((img_pool_1.shape[0], img_pool_1.shape[1], 1))\n",
    "                img_2_pad[:, :, 0] = img_pool_1[:, :, iter2]\n",
    "                ker_temp = np.zeros((14, 14, 1))\n",
    "                ker_temp[:, :, 0] = np.multiply(der_ReLU(der_temp_img[:, :, iter]), cc_err_back_layer2[:, :, iter])\n",
    "                grads_1[:, :, iter2] = conv2d(padding(img_2_pad, 18, 18), ker_temp, biases[ker_nums_layer1+iter2], linear_func, (1,1),pad = 'valid')\n",
    "            grad_conv_2.append(grads_1)\n",
    "\n",
    "        biases_conv_2 = []\n",
    "#         for iter in range(ker_nums_layer2):\n",
    "#             biases_conv_2.append(np.multiply(der_ReLU(der_temp_img[:, :, iter]), cc_err_back_layer2[:, :, iter]).mean())\n",
    "\n",
    "        error_back_layer1 = np.zeros((14, 14, ker_nums_layer1))\n",
    "        for iter in range(ker_nums_layer1):\n",
    "            this_ker_new = np.zeros((5, 5, ker_nums_layer2))\n",
    "            for iter2 in range(ker_nums_layer2):\n",
    "                this_ker_new[:, :, iter2] = kernels[ker_nums_layer1+iter2][:, :, iter]\n",
    "            error_back_layer1[:, :, iter] = conv2d(padding(cc_err_back_layer2, 18, 18), this_ker_new, 0, linear_func, (1, 1), 'valid')\n",
    "#         print(error_back_layer1.shape)\n",
    "        #######################################################################################################################\n",
    "        unpool_layer_1_mask = np.equal(img_conv_1, img_pool_1.repeat(2, axis = 0).repeat(2, axis=1)).astype(int)\n",
    "        cc_err_back_layer1 = np.multiply(unpool_layer_1_mask, error_back_layer1.repeat(2, axis=0).repeat(2, axis=1))\n",
    "        grad_conv_1 = []\n",
    "        \n",
    "        der_temp_img = conv_layer(this_img_in, ker_nums_layer1, ReLU, kernels[0:ker_nums_layer1], biases[0:ker_nums_layer1], stride = (1, 1), pad = 'same')\n",
    "        \n",
    "        for iter in range(ker_nums_layer1):\n",
    "            image_to_pad = np.zeros((this_img_in.shape[0], this_img_in.shape[1], 1))\n",
    "            image_to_pad[:, :, :] = this_img_in\n",
    "            ker_temp = np.zeros((28, 28, 1))\n",
    "            ker_temp[:, :, 0] = np.multiply(der_ReLU(der_temp_img[:, :, iter]), cc_err_back_layer1[:, :, iter])\n",
    "            grad = conv2d(padding(image_to_pad, 32, 32), ker_temp, biases[iter], linear_func, (1, 1), 'valid')\n",
    "            grad_conv_1.append(grad)\n",
    "        \n",
    "        biases_conv_1 = []\n",
    "#         for iter in range(ker_nums_layer1):\n",
    "#             biases_conv_1.append(np.multiply(der_ReLU(der_temp_img[:, :, iter]), cc_err_back_layer1[:, :, iter]).mean())\n",
    "        ######################################################################################################################\n",
    "#         print(weights[1].shape)\n",
    "        if(iter4%batch_size==0):\n",
    "            weights = weights_mlp\n",
    "            bias = bias_mlp\n",
    "            kernels = kernels_cc\n",
    "            biases_cc = biases\n",
    "    ##############################################################################################################\n",
    "        weights_mlp[1] = weights_mlp[1]-grad_2_wt*learning_rate\n",
    "#         print(weights[1].shape)\n",
    "        weights_mlp[0] = weights_mlp[0]-grad_1_wt*learning_rate\n",
    "\n",
    "        bias_mlp[1] = bias_mlp[1]-grad_2_bi*learning_rate\n",
    "        bias_mlp[0] = bias_mlp[0]-grad_1_bi*learning_rate\n",
    "\n",
    "        for iter in range(ker_nums_layer1):\n",
    "            kernels_cc[iter]=kernels_cc[iter]-grad_conv_1[iter]*learning_rate\n",
    "#             biases_cc[iter] = biases_cc[iter]-biases_conv_1[iter]*learning_rate\n",
    "\n",
    "        for iter in range(ker_nums_layer2):\n",
    "            kernels_cc[iter+ker_nums_layer1]=kernels_cc[iter+ker_nums_layer1]-grad_conv_2[iter]*learning_rate\n",
    "#             biases_cc[iter+ker_nums_layer1] = biases_cc[iter+ker_nums_layer1]-biases_conv_2[iter]*learning_rate\n",
    "        if iter4==num_img-1:\n",
    "            print(\"plotting the first pooled image from the first layer\")\n",
    "            plt.imshow(img_conv_1[:, :, 0])\n",
    "            plt.show()\n",
    "#####################################################################################################################\n",
    "        if np.argmax(final_out)==np.argmax(this_img_out):\n",
    "            corrects+=1\n",
    "        else:\n",
    "            mistakes+=1\n",
    "        ##Train error\n",
    "        errors.append(cross_entropy(final_out.T, this_img_out))\n",
    "        #############################################################################################################\n",
    "        ##Calculating the train error\n",
    "        this_img_in = np.zeros((28, 28, 1))\n",
    "        this_img_in[:, :, 0] = X_test_temp[:, :, iter4]\n",
    "#         plt.imshow(this_img_in[:, :, 0])\n",
    "#         plt.show()\n",
    "        this_img_out = np.matrix(Y_test_temp[:, iter4])\n",
    "        this_img_out = np.transpose(this_img_out)\n",
    "\n",
    "        img_conv_1 = (conv_layer(this_img_in, ker_nums_layer1, ReLU, kernels[0:ker_nums_layer1], biases[0:ker_nums_layer1], stride = (1, 1), pad = 'same'))\n",
    "        img_pool_1 = pool_layer(img_conv_1, pool_func, (2, 2), (2, 2))\n",
    "\n",
    "        img_conv_2 = (conv_layer(img_pool_1, ker_nums_layer2, ReLU, kernels[ker_nums_layer1:ker_nums_layer2+ker_nums_layer1], biases[ker_nums_layer1:ker_nums_layer2+ker_nums_layer1], stride = (1, 1), pad = 'same'))\n",
    "        img_pool_2 = pool_layer(img_conv_2, pool_func, (2, 2), (2, 2))\n",
    "        \n",
    "\n",
    "        dense_1_in = np.transpose(np.matrix(img_pool_2.flatten()))\n",
    "#         print(dense_1_in.shape)\n",
    "        dense_1_out = activation_funcs[0](np.matmul(np.transpose(weights[0]), dense_1_in)+bias[0])\n",
    "#         print(dense_1_out.shape)\n",
    "        dense_2_out = activation_funcs[1](np.matmul(np.transpose(weights[1]), dense_1_out)+bias[1])\n",
    "#         print(dense_2_out.shape)\n",
    "        final_out = softmax(dense_2_out)\n",
    "        errors_test.append(cross_entropy(final_out.T, this_img_out))\n",
    "        if np.argmax(final_out)==np.argmax(this_img_out):\n",
    "            corrects_test+=1\n",
    "        else:\n",
    "            mistakes_test+=1\n",
    "        ##Uncomment the below lines to see the activation maps\n",
    "\n",
    "        \n",
    "        \n",
    "    print(\"accuracy : \", corrects/(corrects+mistakes))\n",
    "    print(\"loss : \", np.array(errors).mean())\n",
    "    errors_acc.append(np.array(errors).mean())\n",
    "    errors_acc_test.append(np.array(errors_test).mean())\n",
    "    errors = []\n",
    "    errors_test = []\n",
    "    accuracy.append(corrects/(corrects+mistakes))\n",
    "    accuracy_test.append(corrects_test/(corrects_test+mistakes_test))\n",
    "    \n",
    "    corrects = 0\n",
    "    mistakes = 0\n",
    "    corrects_test = 0\n",
    "    mistakes_test = 0\n",
    "        "
   ]
  },
  {
   "cell_type": "code",
   "execution_count": null,
   "metadata": {},
   "outputs": [],
   "source": []
  },
  {
   "cell_type": "code",
   "execution_count": 14,
   "metadata": {},
   "outputs": [
    {
     "ename": "IndexError",
     "evalue": "index 15 is out of bounds for axis 2 with size 8",
     "output_type": "error",
     "traceback": [
      "\u001b[1;31m---------------------------------------------------------------------------\u001b[0m",
      "\u001b[1;31mIndexError\u001b[0m                                Traceback (most recent call last)",
      "\u001b[1;32m<ipython-input-14-b685ae063d5c>\u001b[0m in \u001b[0;36m<module>\u001b[1;34m\u001b[0m\n\u001b[1;32m----> 1\u001b[1;33m \u001b[0mnp\u001b[0m\u001b[1;33m.\u001b[0m\u001b[0mmultiply\u001b[0m\u001b[1;33m(\u001b[0m\u001b[0mder_ReLU\u001b[0m\u001b[1;33m(\u001b[0m\u001b[0mder_temp_img\u001b[0m\u001b[1;33m[\u001b[0m\u001b[1;33m:\u001b[0m\u001b[1;33m,\u001b[0m \u001b[1;33m:\u001b[0m\u001b[1;33m,\u001b[0m \u001b[0miter\u001b[0m\u001b[1;33m]\u001b[0m\u001b[1;33m)\u001b[0m\u001b[1;33m,\u001b[0m \u001b[0mcc_err_back_layer2\u001b[0m\u001b[1;33m[\u001b[0m\u001b[1;33m:\u001b[0m\u001b[1;33m,\u001b[0m \u001b[1;33m:\u001b[0m\u001b[1;33m,\u001b[0m \u001b[0miter\u001b[0m\u001b[1;33m]\u001b[0m\u001b[1;33m)\u001b[0m\u001b[1;33m.\u001b[0m\u001b[0mshape\u001b[0m\u001b[1;33m\u001b[0m\u001b[1;33m\u001b[0m\u001b[0m\n\u001b[0m",
      "\u001b[1;31mIndexError\u001b[0m: index 15 is out of bounds for axis 2 with size 8"
     ]
    }
   ],
   "source": []
  },
  {
   "cell_type": "code",
   "execution_count": 26,
   "metadata": {},
   "outputs": [
    {
     "data": {
      "image/png": "[encoded data removed]",
      "text/plain": [
       "<Figure size 432x288 with 1 Axes>"
      ]
     },
     "metadata": {
      "needs_background": "light"
     },
     "output_type": "display_data"
    },
    {
     "data": {
      "image/png": "[encoded data removed]",
      "text/plain": [
       "<Figure size 432x288 with 1 Axes>"
      ]
     },
     "metadata": {
      "needs_background": "light"
     },
     "output_type": "display_data"
    },
    {
     "data": {
      "image/png": "[encoded data removed]",
      "text/plain": [
       "<Figure size 432x288 with 1 Axes>"
      ]
     },
     "metadata": {
      "needs_background": "light"
     },
     "output_type": "display_data"
    },
    {
     "data": {
      "image/png": "[encoded data removed]",
      "text/plain": [
       "<Figure size 432x288 with 1 Axes>"
      ]
     },
     "metadata": {
      "needs_background": "light"
     },
     "output_type": "display_data"
    }
   ],
   "source": [
    "import matplotlib.pyplot as plt\n",
    "plt.plot(errors_acc)\n",
    "plt.show()\n",
    "plt.plot(errors_acc_test)\n",
    "plt.show()\n",
    "plt.plot(accuracy)\n",
    "plt.show()\n",
    "plt.plot(accuracy_test)\n",
    "plt.show()"
   ]
  },
  {
   "cell_type": "code",
   "execution_count": 24,
   "metadata": {},
   "outputs": [
    {
     "data": {
      "text/plain": [
       "array([[-0.00254336, -0.00988623, -0.00495147,  0.00591325, -0.0096949 ],\n",
       "       [ 0.00197687,  0.00207609, -0.00789705, -0.00236113, -0.00927048],\n",
       "       [ 0.00780823,  0.00961842, -0.00880116,  0.00781092,  0.00153803],\n",
       "       [ 0.00484959,  0.00260368,  0.00163684, -0.00959122, -0.00579947],\n",
       "       [ 0.0008937 ,  0.0053823 , -0.0049861 , -0.00428209,  0.0070479 ]])"
      ]
     },
     "execution_count": 24,
     "metadata": {},
     "output_type": "execute_result"
    }
   ],
   "source": [
    "# plt.imshow(kernels[1]-kernels[0])\n",
    "# plt.show()\n",
    "kernels[1]"
   ]
  },
  {
   "cell_type": "code",
   "execution_count": null,
   "metadata": {},
   "outputs": [],
   "source": []
  },
  {
   "cell_type": "code",
   "execution_count": null,
   "metadata": {},
   "outputs": [],
   "source": []
  },
  {
   "cell_type": "code",
   "execution_count": null,
   "metadata": {},
   "outputs": [],
   "source": []
  }
 ],
 "metadata": {
  "kernelspec": {
   "display_name": "Python 3",
   "language": "python",
   "name": "python3"
  },
  "language_info": {
   "codemirror_mode": {
    "name": "ipython",
    "version": 3
   },
   "file_extension": ".py",
   "mimetype": "text/x-python",
   "name": "python",
   "nbconvert_exporter": "python",
   "pygments_lexer": "ipython3",
   "version": "3.6.8"
  }
 },
 "nbformat": 4,
 "nbformat_minor": 2
}
