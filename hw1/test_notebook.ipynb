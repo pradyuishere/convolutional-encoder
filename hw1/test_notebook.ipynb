{
 "cells": [
  {
   "cell_type": "code",
   "execution_count": 20,
   "metadata": {},
   "outputs": [
    {
     "name": "stdout",
     "output_type": "stream",
     "text": [
      "Extracting MNIST_data/train-images-idx3-ubyte.gz\n",
      "Extracting MNIST_data/train-labels-idx1-ubyte.gz\n",
      "Extracting MNIST_data/t10k-images-idx3-ubyte.gz\n",
      "Extracting MNIST_data/t10k-labels-idx1-ubyte.gz\n"
     ]
    }
   ],
   "source": [
    "import numpy as np\n",
    "from tensorflow.examples.tutorials.mnist import input_data\n",
    "\n",
    "mnist = input_data.read_data_sets(\"MNIST_data/\", one_hot = True)\n",
    "X_train_temp = np.vstack([img.reshape((28, 28)) for img in mnist.train.images])\n",
    "Y_train_temp = mnist.train.labels\n",
    "X_test_temp  = np.vstack([img.reshape(28, 28) for img in mnist.test.images])\n",
    "Y_test_temp  = mnist.test.labels\n",
    "\n",
    "del mnist\n",
    "\n",
    "X_train = np.zeros([28, 28, int(X_train_temp.shape[0]/28)])\n",
    "\n",
    "for iter in range(int(X_train_temp.shape[0]/28)):\n",
    "    X_train[:, :, iter] = X_train_temp[iter*28:(iter+1)*28, :]\n",
    "\n",
    "X_test = np.zeros([28, 28, int(X_test_temp.shape[0]/28)])\n",
    "for iter in range(int(X_test_temp.shape[0]/28)):\n",
    "    X_test[:, :, iter] = X_test_temp[iter*28:(iter+1)*28, :]\n",
    "\n",
    "Y_train = np.transpose(Y_train_temp)\n",
    "Y_test = np.transpose(Y_test_temp)"
   ]
  },
  {
   "cell_type": "code",
   "execution_count": 25,
   "metadata": {},
   "outputs": [
    {
     "name": "stdout",
     "output_type": "stream",
     "text": [
      "(28, 28, 55000)\n",
      "(10, 55000)\n",
      "[0. 0. 0. 0. 0. 1. 0. 0. 0. 0.]\n"
     ]
    },
    {
     "data": {
      "image/png": "[encoded data removed]",
      "text/plain": [
       "<Figure size 432x288 with 1 Axes>"
      ]
     },
     "metadata": {
      "needs_background": "light"
     },
     "output_type": "display_data"
    }
   ],
   "source": [
    "import matplotlib.pyplot as plt\n",
    "print(X_train.shape)\n",
    "print(Y_train.shape)\n",
    "num = 10000\n",
    "plt.imshow(np.matrix(X_train[:, :, num]), cmap = 'gray')\n",
    "print(Y_train[:, num])\n",
    "plt.show()"
   ]
  },
  {
   "cell_type": "code",
   "execution_count": 5,
   "metadata": {},
   "outputs": [
    {
     "name": "stdout",
     "output_type": "stream",
     "text": [
      "(1540000, 28)\n"
     ]
    }
   ],
   "source": [
    "print(X_train.shape)"
   ]
  },
  {
   "cell_type": "code",
   "execution_count": null,
   "metadata": {},
   "outputs": [],
   "source": []
  }
 ],
 "metadata": {
  "kernelspec": {
   "display_name": "Python 3",
   "language": "python",
   "name": "python3"
  },
  "language_info": {
   "codemirror_mode": {
    "name": "ipython",
    "version": 3
   },
   "file_extension": ".py",
   "mimetype": "text/x-python",
   "name": "python",
   "nbconvert_exporter": "python",
   "pygments_lexer": "ipython3",
   "version": "3.6.8"
  }
 },
 "nbformat": 4,
 "nbformat_minor": 2
}
